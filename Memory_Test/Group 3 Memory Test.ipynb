{
 "cells": [
  {
   "cell_type": "code",
   "execution_count": 3,
   "id": "3d7e3d48-a2b4-4f56-8b26-9db2ad36cb89",
   "metadata": {},
   "outputs": [],
   "source": [
    "import numpy as np \n",
    "import time\n",
    "from time import sleep\n",
    "from IPython.display import HTML, display, clear_output\n",
    "import sys\n",
    "\n",
    "import requests\n",
    "from bs4 import BeautifulSoup\n",
    "import json"
   ]
  },
  {
   "cell_type": "code",
   "execution_count": 61,
   "id": "60b584df-b7e9-48fd-92ee-4dee1cab8e08",
   "metadata": {},
   "outputs": [],
   "source": [
    "def get_img(img_file):\n",
    "    style_str = \"width: 600px;\"\n",
    "    html_out = HTML(f\"<img style = '{style_str}' src = {img_file}> </img>\")\n",
    "    display(html_out)"
   ]
  },
  {
   "cell_type": "code",
   "execution_count": 62,
   "id": "dfbfc394-9fea-42db-bc59-207a9bc17762",
   "metadata": {},
   "outputs": [],
   "source": [
    "files = [\"test1.png\", \"test2.png\", \"test3.png\"]\n",
    "\n",
    "questions = [\n",
    "    [\"The colour of the triangle is ...?\", \n",
    "     \"What is the shape on the right?\",\n",
    "     \"The colour of the shape on the left is ...?\"\n",
    "     ],\n",
    "    \n",
    "    [\"What shape was purple?\", \n",
    "     \"The shape on the top left is ...?\",\n",
    "     \"Which shape was below the circle?\", \n",
    "     \"How many sides does the red shape have?\", \n",
    "     \"What colour was the triangle?\"\n",
    "    ],\n",
    "    \n",
    "    [\"What was the shape between the star and the pentagon?\", \n",
    "     \"What was the shape above the sun?\",\n",
    "     \"The colour of the bottom-right shape is ... ?\", \n",
    "     \"What was the colour of the shape above the smiley face?\", \n",
    "     \"The colour of the circle is ... ?\"\n",
    "     ]\n",
    "]\n",
    "          \n",
    "\n",
    "answers = [\n",
    "    [\"blue\", \"square\", \"blue\"],\n",
    "    [\"star\", \"circle\", \"triangle\", \"4\", \"blue\"],\n",
    "    [\"square\", \"heart\", \"pink\", \"green\", \"red\"]\n",
    "]\n"
   ]
  },
  {
   "cell_type": "code",
   "execution_count": 63,
   "id": "6e97ada8-6266-46b1-922b-aba6e315dc8b",
   "metadata": {},
   "outputs": [],
   "source": [
    "score = 0\n",
    "\n",
    "def test(img_file, q_list, a_list):\n",
    "\n",
    "    global score\n",
    "\n",
    "    print('You have 12 seconds to look and memorise the table below')\n",
    "    get_img(img_file)\n",
    "    time.sleep(12)\n",
    "    clear_output(wait=False)\n",
    "\n",
    "    time.sleep(1)\n",
    "\n",
    "    for i in range(len(q_list)):\n",
    "\n",
    "        print(f'Your current score is {score} points.')\n",
    "        \n",
    "        ans = input(q_list[i])\n",
    "        if ans.lower() == a_list[i]:\n",
    "            print(\"Well done!\")\n",
    "            score += 1+(i*0.5)\n",
    "            # for each grid, questions get harder due to memory loss as time passes. 0.5 points are added for each consecutive question.\n",
    "        else: \n",
    "            print(f'The correct answer is {a_list[i]}')\n",
    "\n",
    "       \n",
    "        time.sleep(1)\n",
    "        clear_output(wait=False)\n",
    "        "
   ]
  },
  {
   "cell_type": "code",
   "execution_count": 64,
   "id": "75fa88fe-c82b-49eb-a50b-b8dfbfafb130",
   "metadata": {},
   "outputs": [],
   "source": [
    "\n",
    "form_url = \"https://docs.google.com/forms/d/e/1FAIpQLSdmrkPwQODW-aQ7o_LlBXIjQKi3sxZqPJ0iSSYOLe1B-VR_Vw/viewform\"\n",
    "\n",
    "def send_to_google_form(data_dict, form_url):\n",
    "\n",
    "    global name\n",
    "    global sleep\n",
    "    global exercise\n",
    "    \n",
    "    data_dict = {\n",
    "        \"Name\":name,\n",
    "        \"Score\":score,\n",
    "        \"Sleep\":sleep,\n",
    "        \"Exercise\":exercise\n",
    "    }\n",
    "\n",
    "    form_id = form_url[34:90]\n",
    "    view_form_url = f'https://docs.google.com/forms/d/e/{form_id}/viewform'\n",
    "    post_form_url = f'https://docs.google.com/forms/d/e/{form_id}/formResponse'\n",
    "\n",
    "    page = requests.get(view_form_url)\n",
    "    content = BeautifulSoup(page.content, \"html.parser\").find('script', type='text/javascript')\n",
    "    content = content.text[27:-1]\n",
    "    result = json.loads(content)[1][1]\n",
    "    form_dict = {}\n",
    "    \n",
    "    loaded_all = True\n",
    "    for item in result:\n",
    "        if item[1] not in data_dict:\n",
    "            print(f\"Form item {item[1]} not found. Data not uploaded.\")\n",
    "            loaded_all = False\n",
    "            return False\n",
    "        form_dict[f'entry.{item[4][0][0]}'] = data_dict[item[1]]\n",
    "    \n",
    "    post_result = requests.post(post_form_url, data=form_dict)\n",
    "    return post_result.ok"
   ]
  },
  {
   "cell_type": "code",
   "execution_count": 65,
   "id": "184b1987-14f5-490d-90a6-1c10567da3eb",
   "metadata": {},
   "outputs": [],
   "source": [
    "def run_test():\n",
    "\n",
    "    global score\n",
    "\n",
    "    score = 0\n",
    "    \n",
    "    for i in range(len(files)):\n",
    "        test(files[i], questions[i], answers[i])\n",
    "    print(f'Your total score is {score} points.')\n",
    "    "
   ]
  },
  {
   "cell_type": "code",
   "execution_count": null,
   "id": "6cce746d-89e4-445a-968f-8c437cd287d1",
   "metadata": {
    "scrolled": true
   },
   "outputs": [
    {
     "name": "stdin",
     "output_type": "stream",
     "text": [
      "Please type 'yes' if you consent to your test results to be recorded. yes\n"
     ]
    }
   ],
   "source": [
    "consent = input(\"Please type 'yes' if you consent to your test results to be recorded.\")\n",
    "if consent != \"yes\":\n",
    "    print(\"The test will not continue.\")\n",
    "    time.sleep(1)\n",
    "    sys.exit()\n",
    "\n",
    "name = input(\"Please enter your name.\") \n",
    "\n",
    "print(\"How much sleep have you had last night?\")\n",
    "sleep = input(\"Enter your number of hours as a single number (e.g. 8).\") \n",
    "\n",
    "print(\"How many days a week do you exercise for more than 30 minutes?\")\n",
    "exercise = input(\"Enter your answer as a single number.\")\n",
    "\n",
    "clear_output(wait=False)\n",
    "\n",
    "run_test()\n",
    "send_to_google_form(data_dict, form_url)"
   ]
  },
  {
   "cell_type": "code",
   "execution_count": null,
   "id": "d9a5f728-7c50-464c-9a68-59582b4c8bda",
   "metadata": {},
   "outputs": [],
   "source": []
  }
 ],
 "metadata": {
  "kernelspec": {
   "display_name": "Python 3 (ipykernel)",
   "language": "python",
   "name": "python3"
  },
  "language_info": {
   "codemirror_mode": {
    "name": "ipython",
    "version": 3
   },
   "file_extension": ".py",
   "mimetype": "text/x-python",
   "name": "python",
   "nbconvert_exporter": "python",
   "pygments_lexer": "ipython3",
   "version": "3.8.17"
  }
 },
 "nbformat": 4,
 "nbformat_minor": 5
}
