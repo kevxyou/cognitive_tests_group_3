{
 "cells": [
  {
   "cell_type": "code",
   "execution_count": 1,
   "id": "43d72189-d9c6-4c37-a992-316a8e5ed61d",
   "metadata": {},
   "outputs": [
    {
     "name": "stdout",
     "output_type": "stream",
     "text": [
      "DATA CONSENT INFORMATION:\n",
      "\n",
      "    Please read:\n",
      "    \n",
      "    we wish to record your response data\n",
      "    to an anonymised public data repository. \n",
      "    Your data will be used for educational teaching purposes\n",
      "    practising data analysis and visualisation.\n",
      "    \n",
      "    Please type   yes   in the box below if you consent to the upload.\n"
     ]
    },
    {
     "name": "stdin",
     "output_type": "stream",
     "text": [
      ">  yes\n"
     ]
    },
    {
     "name": "stdout",
     "output_type": "stream",
     "text": [
      "Thanks for your participation.\n",
      "Please contact philip.lewis@ucl.ac.uk\n",
      "If you have any questions or concerns\n",
      "regarding the stored results.\n"
     ]
    },
    {
     "data": {
      "text/plain": [
       "(4, 17.033045768737793, ['D', 'C', 'A', 'A', 'C', 'C'])"
      ]
     },
     "execution_count": 1,
     "metadata": {},
     "output_type": "execute_result"
    }
   ],
   "source": [
    "from spatialresources import *\n",
    "spatial()"
   ]
  },
  {
   "cell_type": "code",
   "execution_count": null,
   "id": "81e13823-b29a-491a-b476-1e8385807797",
   "metadata": {},
   "outputs": [],
   "source": []
  }
 ],
 "metadata": {
  "kernelspec": {
   "display_name": "Python 3 (ipykernel)",
   "language": "python",
   "name": "python3"
  },
  "language_info": {
   "codemirror_mode": {
    "name": "ipython",
    "version": 3
   },
   "file_extension": ".py",
   "mimetype": "text/x-python",
   "name": "python",
   "nbconvert_exporter": "python",
   "pygments_lexer": "ipython3",
   "version": "3.8.17"
  }
 },
 "nbformat": 4,
 "nbformat_minor": 5
}
